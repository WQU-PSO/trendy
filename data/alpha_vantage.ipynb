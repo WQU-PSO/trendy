{
 "cells": [
  {
   "cell_type": "code",
   "execution_count": null,
   "metadata": {},
   "outputs": [],
   "source": [
    "https://www.alphavantage.co/query?function=TIME_SERIES_INTRADAY_EXTENDED&symbol=APPL&interval=15min&slice=year1month1&apikey='GYT4J5N7OJOOM2DH'"
   ]
  },
  {
   "cell_type": "code",
   "execution_count": 28,
   "metadata": {},
   "outputs": [
    {
     "name": "stdout",
     "output_type": "stream",
     "text": [
      "https://www.alphavantage.co/query?function=TIME_SERIES_INTRADAY_EXTENDED&symbol=AAPL&interval=15min&slice=year1month1&apikey='GYT4J5N7OJOOM2DH'\n",
      "https://www.alphavantage.co/query?function=TIME_SERIES_INTRADAY_EXTENDED&symbol=AAPL&interval=15min&slice=year1month2&apikey='GYT4J5N7OJOOM2DH'\n",
      "https://www.alphavantage.co/query?function=TIME_SERIES_INTRADAY_EXTENDED&symbol=AAPL&interval=15min&slice=year1month3&apikey='GYT4J5N7OJOOM2DH'\n",
      "https://www.alphavantage.co/query?function=TIME_SERIES_INTRADAY_EXTENDED&symbol=AAPL&interval=15min&slice=year1month4&apikey='GYT4J5N7OJOOM2DH'\n",
      "https://www.alphavantage.co/query?function=TIME_SERIES_INTRADAY_EXTENDED&symbol=AAPL&interval=15min&slice=year1month5&apikey='GYT4J5N7OJOOM2DH'\n",
      "https://www.alphavantage.co/query?function=TIME_SERIES_INTRADAY_EXTENDED&symbol=AAPL&interval=15min&slice=year1month6&apikey='GYT4J5N7OJOOM2DH'\n",
      "https://www.alphavantage.co/query?function=TIME_SERIES_INTRADAY_EXTENDED&symbol=AAPL&interval=15min&slice=year1month7&apikey='GYT4J5N7OJOOM2DH'\n",
      "https://www.alphavantage.co/query?function=TIME_SERIES_INTRADAY_EXTENDED&symbol=AAPL&interval=15min&slice=year1month8&apikey='GYT4J5N7OJOOM2DH'\n",
      "https://www.alphavantage.co/query?function=TIME_SERIES_INTRADAY_EXTENDED&symbol=AAPL&interval=15min&slice=year1month9&apikey='GYT4J5N7OJOOM2DH'\n",
      "https://www.alphavantage.co/query?function=TIME_SERIES_INTRADAY_EXTENDED&symbol=AAPL&interval=15min&slice=year1month10&apikey='GYT4J5N7OJOOM2DH'\n",
      "https://www.alphavantage.co/query?function=TIME_SERIES_INTRADAY_EXTENDED&symbol=AAPL&interval=15min&slice=year1month11&apikey='GYT4J5N7OJOOM2DH'\n",
      "https://www.alphavantage.co/query?function=TIME_SERIES_INTRADAY_EXTENDED&symbol=AAPL&interval=15min&slice=year1month12&apikey='GYT4J5N7OJOOM2DH'\n"
     ]
    }
   ],
   "source": [
    "for i in range(1):\n",
    "    for j in range(12):\n",
    "        print(\"https://www.alphavantage.co/query?function=TIME_SERIES_INTRADAY_EXTENDED&symbol=AAPL&interval=15min&slice=year\" + str(i+1) + \"month\" + str(j+1) + \"&apikey='GYT4J5N7OJOOM2DH'\")"
   ]
  },
  {
   "cell_type": "code",
   "execution_count": 39,
   "metadata": {
    "scrolled": true
   },
   "outputs": [
    {
     "data": {
      "text/plain": [
       "['downloads/extended_intraday_AAPL_15min_year1month8_adjusted.csv',\n",
       " 'downloads/extended_intraday_AAPL_15min_year1month9_adjusted.csv',\n",
       " 'downloads/extended_intraday_AAPL_15min_year1month10_adjusted.csv',\n",
       " 'downloads/extended_intraday_AAPL_15min_year1month3_adjusted.csv',\n",
       " 'downloads/extended_intraday_AAPL_15min_year1month4_adjusted.csv',\n",
       " 'downloads/extended_intraday_AAPL_15min_year1month5_adjusted.csv',\n",
       " 'downloads/extended_intraday_AAPL_15min_year1month2_adjusted.csv',\n",
       " 'downloads/extended_intraday_AAPL_15min_year1month11_adjusted.csv',\n",
       " 'downloads/extended_intraday_AAPL_15min_year1month7_adjusted.csv',\n",
       " 'downloads/extended_intraday_AAPL_15min_year1month12_adjusted.csv',\n",
       " 'downloads/extended_intraday_AAPL_15min_year1month1_adjusted.csv']"
      ]
     },
     "execution_count": 39,
     "metadata": {},
     "output_type": "execute_result"
    }
   ],
   "source": [
    "import glob\n",
    "files = glob.glob('downloads/*.csv')\n",
    "files"
   ]
  },
  {
   "cell_type": "code",
   "execution_count": 76,
   "metadata": {},
   "outputs": [
    {
     "data": {
      "text/html": [
       "<div>\n",
       "<style scoped>\n",
       "    .dataframe tbody tr th:only-of-type {\n",
       "        vertical-align: middle;\n",
       "    }\n",
       "\n",
       "    .dataframe tbody tr th {\n",
       "        vertical-align: top;\n",
       "    }\n",
       "\n",
       "    .dataframe thead th {\n",
       "        text-align: right;\n",
       "    }\n",
       "</style>\n",
       "<table border=\"1\" class=\"dataframe\">\n",
       "  <thead>\n",
       "    <tr style=\"text-align: right;\">\n",
       "      <th></th>\n",
       "      <th>date</th>\n",
       "      <th>time</th>\n",
       "      <th>open</th>\n",
       "      <th>high</th>\n",
       "      <th>low</th>\n",
       "      <th>close</th>\n",
       "      <th>volume</th>\n",
       "    </tr>\n",
       "  </thead>\n",
       "  <tbody>\n",
       "    <tr>\n",
       "      <th>1326</th>\n",
       "      <td>2020-04-24</td>\n",
       "      <td>04:15:00</td>\n",
       "      <td>67.676376</td>\n",
       "      <td>67.800417</td>\n",
       "      <td>67.676376</td>\n",
       "      <td>67.800417</td>\n",
       "      <td>4176</td>\n",
       "    </tr>\n",
       "    <tr>\n",
       "      <th>1291</th>\n",
       "      <td>2020-04-24</td>\n",
       "      <td>13:15:00</td>\n",
       "      <td>69.579154</td>\n",
       "      <td>69.710637</td>\n",
       "      <td>69.522096</td>\n",
       "      <td>69.648617</td>\n",
       "      <td>3672384</td>\n",
       "    </tr>\n",
       "    <tr>\n",
       "      <th>1290</th>\n",
       "      <td>2020-04-24</td>\n",
       "      <td>13:30:00</td>\n",
       "      <td>69.638793</td>\n",
       "      <td>69.664221</td>\n",
       "      <td>69.554346</td>\n",
       "      <td>69.661021</td>\n",
       "      <td>2698480</td>\n",
       "    </tr>\n",
       "    <tr>\n",
       "      <th>1289</th>\n",
       "      <td>2020-04-24</td>\n",
       "      <td>13:45:00</td>\n",
       "      <td>69.663502</td>\n",
       "      <td>69.737926</td>\n",
       "      <td>69.638694</td>\n",
       "      <td>69.732964</td>\n",
       "      <td>3248520</td>\n",
       "    </tr>\n",
       "    <tr>\n",
       "      <th>1288</th>\n",
       "      <td>2020-04-24</td>\n",
       "      <td>14:00:00</td>\n",
       "      <td>69.730483</td>\n",
       "      <td>69.802427</td>\n",
       "      <td>69.631251</td>\n",
       "      <td>69.782580</td>\n",
       "      <td>2917748</td>\n",
       "    </tr>\n",
       "  </tbody>\n",
       "</table>\n",
       "</div>"
      ],
      "text/plain": [
       "            date      time       open       high        low      close  \\\n",
       "1326  2020-04-24  04:15:00  67.676376  67.800417  67.676376  67.800417   \n",
       "1291  2020-04-24  13:15:00  69.579154  69.710637  69.522096  69.648617   \n",
       "1290  2020-04-24  13:30:00  69.638793  69.664221  69.554346  69.661021   \n",
       "1289  2020-04-24  13:45:00  69.663502  69.737926  69.638694  69.732964   \n",
       "1288  2020-04-24  14:00:00  69.730483  69.802427  69.631251  69.782580   \n",
       "\n",
       "       volume  \n",
       "1326     4176  \n",
       "1291  3672384  \n",
       "1290  2698480  \n",
       "1289  3248520  \n",
       "1288  2917748  "
      ]
     },
     "execution_count": 76,
     "metadata": {},
     "output_type": "execute_result"
    }
   ],
   "source": [
    "import pandas as pd\n",
    "\n",
    "combined_csv = pd.concat([pd.read_csv(f) for f in files])\n",
    "combined_csv.to_csv(\"combined_csv.csv\", index=False, encoding='utf-8-sig')\n",
    "\n",
    "combined_csv['time'] = pd.to_datetime(combined_csv['time'])\n",
    "combined_csv['date'] = [d.date() for d in combined_csv['time']]\n",
    "combined_csv['time'] = [d.time() for d in combined_csv['time']]\n",
    "\n",
    "combined_csv = combined_csv[['date','time', 'open', 'high', 'low', 'close', 'volume']]\n",
    "combined_csv = combined_csv.sort_values(by=['date'])\n",
    "\n",
    "combined_csv.head()"
   ]
  },
  {
   "cell_type": "code",
   "execution_count": null,
   "metadata": {},
   "outputs": [],
   "source": []
  },
  {
   "cell_type": "code",
   "execution_count": 77,
   "metadata": {},
   "outputs": [
    {
     "data": {
      "text/plain": [
       "11430"
      ]
     },
     "execution_count": 77,
     "metadata": {},
     "output_type": "execute_result"
    }
   ],
   "source": [
    "round(len(combined_csv) * 0.8)"
   ]
  },
  {
   "cell_type": "code",
   "execution_count": 72,
   "metadata": {},
   "outputs": [],
   "source": [
    "combined_csv[:11430].to_csv( \"aapl_test.csv\", index=False, encoding='utf-8-sig')\n",
    "combined_csv[11430:].to_csv( \"aapl_test.csv\", index=False, encoding='utf-8-sig')\n",
    "combined_csv.to_csv( \"aapl_full.csv\", index=False, encoding='utf-8-sig')"
   ]
  }
 ],
 "metadata": {
  "kernelspec": {
   "display_name": "Python 3",
   "language": "python",
   "name": "python3"
  },
  "language_info": {
   "codemirror_mode": {
    "name": "ipython",
    "version": 3
   },
   "file_extension": ".py",
   "mimetype": "text/x-python",
   "name": "python",
   "nbconvert_exporter": "python",
   "pygments_lexer": "ipython3",
   "version": "3.8.3"
  }
 },
 "nbformat": 4,
 "nbformat_minor": 4
}
